{
 "cells": [
  {
   "cell_type": "markdown",
   "metadata": {},
   "source": [
    "# Ejercicios Básicos de Python\n",
    "### Ejercicio 1\n",
    "Realiza una variable con tu matricula y realiza una secuencia de imprimir con tu nombre y tu matricula concatenados."
   ]
  },
  {
   "cell_type": "code",
   "execution_count": 3,
   "metadata": {},
   "outputs": [
    {
     "name": "stdout",
     "output_type": "stream",
     "text": [
      "José Eduardo López Hernández 1871089\n"
     ]
    }
   ],
   "source": [
    "matricula=1871089\n",
    "nombre='José Eduardo López Hernández'\n",
    "print(nombre,matricula)\n"
   ]
  },
  {
   "cell_type": "markdown",
   "metadata": {},
   "source": [
    "### Ejercicio 2\n",
    "Pidiendo el input del usuario pide dos números y crea una pequeña calculadora con los operadores básicos de suma, resta, multiplicación, división, y exponente."
   ]
  },
  {
   "cell_type": "code",
   "execution_count": null,
   "metadata": {},
   "outputs": [],
   "source": [
    "num1 = int(input(\"Introduzca un número:\" ))\n",
    "num2 = int(input(\"Introduzca otro número: \"))\n",
    "\n",
    "print (\"La suma de los numeros: \",num1+num2 )\n",
    "print(\"La resta de los numeros: \",num1-num2 )\n",
    "print(\"El prdoucto de los numeros: \",num1*num2 )\n",
    "print(\"El cociente de los numeros: \",num1/num2 )\n",
    "print(\"Primer numero elevado al segundo: \",num1**num2 )\n"
   ]
  },
  {
   "cell_type": "markdown",
   "metadata": {},
   "source": [
    "### Ejercicio 3\n",
    "Con loop while o for, realiza una lista de 10 numeros multiplos de 3, y después realiza una función de loop que sume todos los números dentro del arreglo."
   ]
  },
  {
   "cell_type": "code",
   "execution_count": 4,
   "metadata": {},
   "outputs": [
    {
     "name": "stdout",
     "output_type": "stream",
     "text": [
      "3\n",
      "6\n",
      "9\n",
      "12\n",
      "15\n",
      "18\n",
      "21\n",
      "24\n",
      "27\n",
      "30\n",
      "La suma de los numeros es igual a:  165\n"
     ]
    }
   ],
   "source": [
    "c=0\n",
    "i=1\n",
    "suma=0\n",
    "while i<=10:\n",
    "    c=c+3\n",
    "    suma=suma+c\n",
    "    print(c)\n",
    "    i=i+1\n",
    "print('La suma de los numeros es igual a: ',suma)\n"
   ]
  },
  {
   "cell_type": "markdown",
   "metadata": {},
   "source": [
    "### Ejercicio 4\n",
    "-Con una función de if else, revisar si un número es par o es impar.\n",
    "-Con una función de if else, revisar si un número es primo o no."
   ]
  },
  {
   "cell_type": "code",
   "execution_count": 6,
   "metadata": {
    "scrolled": true
   },
   "outputs": [
    {
     "name": "stdout",
     "output_type": "stream",
     "text": [
      "Introduce un número:5\n",
      "Su numero es impar\n"
     ]
    }
   ],
   "source": [
    "n = int(input(\"Introduzca un número:\" ))\n",
    "if n%2==0:\n",
    "    print('Su numero es par')\n",
    "else:\n",
    "    print('Su numero es impar')\n"
   ]
  },
  {
   "cell_type": "code",
   "execution_count": 1,
   "metadata": {},
   "outputs": [
    {
     "name": "stdout",
     "output_type": "stream",
     "text": [
      "Introduzca un número:10\n",
      "Su numero no es primo\n"
     ]
    }
   ],
   "source": [
    "n = int(input(\"Introduzca un número:\" ))\n",
    "x=0\n",
    "for i in range(2,n):\n",
    "    if n%i==0:\n",
    "        x=x+1\n",
    "\n",
    "if x==0:\n",
    "    print('Su numero es primo')\n",
    "else:\n",
    "    print('Su numero no es primo')\n"
   ]
  },
  {
   "cell_type": "markdown",
   "metadata": {},
   "source": [
    "### Ejercicio 5\n",
    "Utilizando diferentes clases en python, crea una calculadora con los operadores básicos de suma, resta, multiplicación, división, y exponente."
   ]
  },
  {
   "cell_type": "code",
   "execution_count": 7,
   "metadata": {},
   "outputs": [
    {
     "name": "stdout",
     "output_type": "stream",
     "text": [
      "Calculadora de operadores básicos\n",
      "Ingresael número de la opción requerida:\n",
      "1. Suma\n",
      "2. Resta\n",
      "3. Multiplicación\n",
      "4. División\n",
      "5. Potencia\n",
      "6. Salir\n",
      "\n",
      "Opcion:2\n",
      "Ingresa un número: 5\n",
      "Ingresa el número a restar: 6\n",
      "Resta de los números:  -1.0\n",
      "Ingresael número de la opción requerida:\n",
      "1. Suma\n",
      "2. Resta\n",
      "3. Multiplicación\n",
      "4. División\n",
      "5. Potencia\n",
      "6. Salir\n",
      "\n",
      "Opcion:6\n",
      "Gracias por utilizar la calculadora.\n"
     ]
    }
   ],
   "source": [
    "o=1\n",
    "print('Calculadora de operadores básicos')\n",
    "while o!=6:\n",
    "    o=int(input('Ingresael número de la opción requerida:\\n1. Suma\\n2. Resta\\n3. Multiplicación\\n4. División\\n5. Potencia\\n6. Salir\\n\\nOpcion:'))\n",
    "    while o<1 or o>6:\n",
    "        o=int(input(\"Número erróneo, ingrese un número correcto: \"))\n",
    "    if o==1:\n",
    "        a=float(input(\"Ingresa un número: \"))\n",
    "        b=float(input(\"Ingresa el número a sumar: \"))\n",
    "        s=a+b\n",
    "        print(\"Suma de los números: \",s)\n",
    "    if o==2:\n",
    "        a=float(input(\"Ingresa un número: \"))\n",
    "        b=float(input(\"Ingresa el número a restar: \"))\n",
    "        r=a-b\n",
    "        print(\"Resta de los números: \",r)\n",
    "    if o==3:\n",
    "        a=float(input(\"Ingresa un número: \"))\n",
    "        b=float(input(\"Ingresa otro número: \"))\n",
    "        m=a*b\n",
    "        print(\"Producto de los números: \",m)\n",
    "    if o==4:\n",
    "        a=float(input(\"Ingresa el numerador: \"))\n",
    "        b=float(input(\"Ingresa el denominador: \"))\n",
    "        d=a/b\n",
    "        print(\"Cociente de los números: \",d)\n",
    "    if o==5:\n",
    "        a=float(input(\"Ingresa un número: \"))\n",
    "        b=float(input(\"Ingresa la potencia deseada: \"))\n",
    "        e=a**b\n",
    "        print('Número elevado al otro:',e)\n",
    "print('Gracias por utilizar la calculadora.')\n"
   ]
  },
  {
   "cell_type": "markdown",
   "metadata": {},
   "source": [
    "# Ejercicios con estructuras básicas de python.\n",
    "### Tuplas\n",
    "-Crear una variable flotante, integer, boleana y compleja e imprimir el tipo de variable que es."
   ]
  },
  {
   "cell_type": "code",
   "execution_count": 11,
   "metadata": {},
   "outputs": [
    {
     "name": "stdout",
     "output_type": "stream",
     "text": [
      "La variable 10.95 es de tipo <class 'float'>\n",
      "La variable 100 es de tipo <class 'int'>\n",
      "La variable True es de tipo <class 'bool'>\n",
      "La variable 15j es de tipo <class 'complex'>\n"
     ]
    }
   ],
   "source": [
    "nufl=10.95\n",
    "nuin=100\n",
    "bol=True\n",
    "com=15j\n",
    "print('La variable',nufl,'es de tipo',type(nufl))\n",
    "print('La variable',nuin,'es de tipo',type(nuin))\n",
    "print('La variable',bol,'es de tipo',type(bol))\n",
    "print('La variable',com,'es de tipo',type(com))"
   ]
  },
  {
   "cell_type": "markdown",
   "metadata": {},
   "source": [
    "-Crear una tupla con valores enteros imprimir el primer y ultimo valor."
   ]
  },
  {
   "cell_type": "code",
   "execution_count": 12,
   "metadata": {},
   "outputs": [
    {
     "name": "stdout",
     "output_type": "stream",
     "text": [
      "Primer Valor: 12\n",
      "Ultimo valor: 1305\n"
     ]
    }
   ],
   "source": [
    "t=(12,100,5,900,1305)\n",
    "l=len(t)\n",
    "print('Primer Valor:',t[0])\n",
    "print('Ultimo valor:',t[l-1])\n"
   ]
  },
  {
   "cell_type": "markdown",
   "metadata": {},
   "source": [
    "-Añadir 3 valores de string a la tupla"
   ]
  },
  {
   "cell_type": "code",
   "execution_count": 16,
   "metadata": {},
   "outputs": [
    {
     "name": "stdout",
     "output_type": "stream",
     "text": [
      "(12, 100, 5, 900, 1305, 30, 9, 2000, 'Hola', 'mucho', 'gusto')\n"
     ]
    }
   ],
   "source": [
    "t+=('Hola','mucho','gusto')\n",
    "print(t)"
   ]
  },
  {
   "cell_type": "markdown",
   "metadata": {},
   "source": [
    "-Verificar si una variable existe dentro de la tupla"
   ]
  },
  {
   "cell_type": "code",
   "execution_count": 17,
   "metadata": {},
   "outputs": [
    {
     "name": "stdout",
     "output_type": "stream",
     "text": [
      "¿mucho se encuentra en la tupla? True\n",
      "¿1305 se encuentra en la tupla? True\n",
      "¿50 se encuentra en la tupla? False\n"
     ]
    }
   ],
   "source": [
    "print(\"¿mucho se encuentra en la tupla?\", 'mucho' in t)\n",
    "print(\"¿1305 se encuentra en la tupla?\", 1305 in t)\n",
    "print(\"¿50 se encuentra en la tupla?\", 50 in t)"
   ]
  },
  {
   "cell_type": "markdown",
   "metadata": {},
   "source": [
    "### Listas\n",
    "-Crear una lista con 40 elementos aleatorios enteros."
   ]
  },
  {
   "cell_type": "code",
   "execution_count": 15,
   "metadata": {},
   "outputs": [
    {
     "name": "stdout",
     "output_type": "stream",
     "text": [
      "Ingrese hasta que número quiera generar los números aleatorios:50\n",
      "[25, 36, 10, 23, 39, 23, 33, 5, 50, 33, 11, 8, 44, 32, 30, 48, 23, 41, 28, 46, 25, 43, 34, 1, 22, 30, 49, 13, 49, 13, 47, 29, 32, 36, 34, 19, 23, 7, 29, 2]\n",
      "Tamaño de la lista 40\n"
     ]
    }
   ],
   "source": [
    "import random\n",
    "ElAl = []\n",
    "k = int(input(\"Ingrese hasta que número quiera generar los números aleatorios:\"))\n",
    "\n",
    "for i in range(0,40):\n",
    "    ElAl.append(random.randint(0,k))\n",
    "print (ElAl)\n",
    "print(\"Tamaño de la lista\", len(ElAl))"
   ]
  },
  {
   "cell_type": "markdown",
   "metadata": {},
   "source": [
    "-Con una funcion (def) crear dos listas nuevas a partir de la lista creada por numeros aleatorios, en la cual en una esten los elementos pares, y en la otra los elementos impares."
   ]
  },
  {
   "cell_type": "code",
   "execution_count": 20,
   "metadata": {},
   "outputs": [
    {
     "name": "stdout",
     "output_type": "stream",
     "text": [
      "Lista de los números pares: [64, 46, 6, 98, 44, 36, 64, 38, 18, 48, 54]\n",
      "Lista de los números impares: [11, 89, 21, 19, 91, 85, 65, 17, 71, 29, 57, 83, 27, 35, 9, 45, 77, 33, 69, 23, 39, 71, 51, 67, 31, 15, 49, 17, 65]\n"
     ]
    }
   ],
   "source": [
    "pares = []\n",
    "impares = []\n",
    "def Num (x):\n",
    "    if x%2 == 0:\n",
    "        P = 0 \n",
    "    else: P = 1 \n",
    "    return P\n",
    "\n",
    "for i in range(0,40):\n",
    "    x = Num (ElAl[i])\n",
    "    if x == 0:\n",
    "        pares.append(ElAl[i])\n",
    "    else: impares.append(ElAl[i])\n",
    "        \n",
    "print(\"Lista de los números pares:\", pares)\n",
    "print(\"Lista de los números impares:\", impares)"
   ]
  },
  {
   "cell_type": "markdown",
   "metadata": {},
   "source": [
    "-Crear dos variables con la longitud de ambas listas nuevas e imprimir las variables."
   ]
  },
  {
   "cell_type": "code",
   "execution_count": 22,
   "metadata": {},
   "outputs": [
    {
     "name": "stdout",
     "output_type": "stream",
     "text": [
      "La cantidad de números pares en la lista son: 11\n",
      "La cantidad de números impares en la lista son: 29\n"
     ]
    }
   ],
   "source": [
    "NumP = len(pares)\n",
    "NumI = len(impares)\n",
    "print(\"La cantidad de números pares en la lista son:\", NumP)\n",
    "print(\"La cantidad de números impares en la lista son:\", NumI)"
   ]
  },
  {
   "cell_type": "markdown",
   "metadata": {},
   "source": [
    "-Ordenar los elementos de la lista par de mayor a menor, y los de la lista impar de menor a mayor."
   ]
  },
  {
   "cell_type": "code",
   "execution_count": 23,
   "metadata": {},
   "outputs": [
    {
     "name": "stdout",
     "output_type": "stream",
     "text": [
      "La lista de mayor a menor en los números pares son: [98, 64, 64, 54, 48, 46, 44, 38, 36, 18, 6]\n",
      "La lista de menor a mayor en los números impares son: [9, 11, 15, 17, 17, 19, 21, 23, 27, 29, 31, 33, 35, 39, 45, 49, 51, 57, 65, 65, 67, 69, 71, 71, 77, 83, 85, 89, 91]\n"
     ]
    }
   ],
   "source": [
    "pares.sort(reverse=True)\n",
    "impares.sort()\n",
    "print(\"La lista de mayor a menor en los números pares son:\", pares)\n",
    "print(\"La lista de menor a mayor en los números impares son:\", impares)"
   ]
  },
  {
   "cell_type": "markdown",
   "metadata": {},
   "source": [
    "-Utilizar al menos cuatro de las funciones de listas en python en la lista original de 40 elementos."
   ]
  },
  {
   "cell_type": "code",
   "execution_count": 27,
   "metadata": {},
   "outputs": [
    {
     "name": "stdout",
     "output_type": "stream",
     "text": [
      "[11, 64, 89, 46, 21, 19, 6, 98, 44, 91, 85, 65, 17, 36, 71, 29, 64, 57, 83, 27, 38, 35, 9, 45, 77, 33, 69, 23, 39, 71, 51, 67, 18, 48, 31, 15, 49, 17, 54, 65, 10, 10, 10]\n",
      "[64, 89, 46, 21, 19, 6, 98, 44, 91, 85, 65, 17, 36, 71, 29, 64, 57, 83, 27, 38, 35, 9, 45, 77, 33, 69, 23, 39, 71, 51, 67, 18, 48, 31, 15, 49, 17, 54, 65, 10, 10, 10]\n",
      "[64, 89, 46, 21, 19, 6, 98, 44, 91, 85, 65, 17, 36, 71, 29, 64, 57, 83, 27, 38, 35, 9, 45, 77, 33, 69, 23, 39, 71, 51, 67, 18, 48, 31, 15, 49, 17, 54, 65, 10, 10]\n",
      "[64, 10, 89, 46, 21, 19, 6, 98, 44, 91, 85, 65, 17, 36, 71, 29, 64, 57, 83, 27, 38, 35, 9, 45, 77, 33, 69, 23, 39, 71, 51, 67, 18, 48, 31, 15, 49, 17, 54, 65, 10, 10]\n"
     ]
    }
   ],
   "source": [
    "ElAl.append(10)\n",
    "print(ElAl)\n",
    "ElAl.remove(11)\n",
    "print(ElAl)\n",
    "ElAl.pop(39)\n",
    "print(ElAl)\n",
    "ElAl.insert(1,10)\n",
    "print(ElAl)"
   ]
  },
  {
   "cell_type": "markdown",
   "metadata": {},
   "source": [
    "### Diccionarios\n",
    "-Crear un diccionario de 6 personas que conozcas con su primer nombre y su edad."
   ]
  },
  {
   "cell_type": "code",
   "execution_count": 32,
   "metadata": {},
   "outputs": [
    {
     "name": "stdout",
     "output_type": "stream",
     "text": [
      "{'Mario': 20, 'Diego': 20, 'Miguel': 19, 'Elpidio': 19, 'Dylan': 20}\n"
     ]
    }
   ],
   "source": [
    "Diccionario={'Mario':20,'Diego':20,'Miguel':19,'Elpidio':19, 'Dylan':20}\n",
    "print(Diccionario)"
   ]
  },
  {
   "cell_type": "markdown",
   "metadata": {},
   "source": [
    "-Crear una lista con los valores de la edad y reacomodar la lista de menor a mayor valor."
   ]
  },
  {
   "cell_type": "code",
   "execution_count": 33,
   "metadata": {},
   "outputs": [
    {
     "name": "stdout",
     "output_type": "stream",
     "text": [
      "[19, 19, 20, 20, 20]\n"
     ]
    }
   ],
   "source": [
    "Edad = sorted(list(Diccionario.values()))\n",
    "print(Edad)"
   ]
  },
  {
   "cell_type": "markdown",
   "metadata": {},
   "source": [
    "-Usando el diccionario y un loop, imprimir solo los nombres."
   ]
  },
  {
   "cell_type": "code",
   "execution_count": 34,
   "metadata": {},
   "outputs": [
    {
     "name": "stdout",
     "output_type": "stream",
     "text": [
      "Mario\n",
      "Diego\n",
      "Miguel\n",
      "Elpidio\n",
      "Dylan\n"
     ]
    }
   ],
   "source": [
    "for i in Diccionario:\n",
    "    print(i)"
   ]
  },
  {
   "cell_type": "markdown",
   "metadata": {},
   "source": [
    "-Añadir dos personas nuevas a tu diccionario, incluyendo edad."
   ]
  },
  {
   "cell_type": "code",
   "execution_count": 35,
   "metadata": {},
   "outputs": [
    {
     "name": "stdout",
     "output_type": "stream",
     "text": [
      "{'Mario': 20, 'Diego': 20, 'Miguel': 19, 'Elpidio': 19, 'Dylan': 20, 'José': 49, 'Susana': 48}\n"
     ]
    }
   ],
   "source": [
    "Diccionario ['José'] = 49\n",
    "Diccionario ['Susana'] = 48\n",
    "print(Diccionario)"
   ]
  },
  {
   "cell_type": "markdown",
   "metadata": {},
   "source": [
    "### Sets\n",
    "•Crea un set con 100 numeros aleatorios enteros del 1 al 25.\n"
   ]
  },
  {
   "cell_type": "code",
   "execution_count": 12,
   "metadata": {
    "scrolled": true
   },
   "outputs": [
    {
     "name": "stdout",
     "output_type": "stream",
     "text": [
      "{1, 2, 3, 4, 5, 6, 7, 8, 9, 10, 11, 12, 13, 14, 15, 16, 17, 18, 19, 20, 21, 22, 23, 24, 25}\n"
     ]
    }
   ],
   "source": [
    "Set = set()\n",
    "for i in range(0,100):\n",
    "    Set.add(random.randint(1,25))\n",
    "print(Set)"
   ]
  },
  {
   "cell_type": "markdown",
   "metadata": {},
   "source": [
    "-Comprueba la longitud de tu set."
   ]
  },
  {
   "cell_type": "code",
   "execution_count": 13,
   "metadata": {},
   "outputs": [
    {
     "name": "stdout",
     "output_type": "stream",
     "text": [
      "25\n"
     ]
    }
   ],
   "source": [
    "print(len(Set))"
   ]
  },
  {
   "cell_type": "markdown",
   "metadata": {},
   "source": [
    "-Crea una lista de 5 numeros aleatorios del 1 al 10 y comprueba si cada valor aparece en el set inicial."
   ]
  },
  {
   "cell_type": "code",
   "execution_count": 14,
   "metadata": {},
   "outputs": [
    {
     "name": "stdout",
     "output_type": "stream",
     "text": [
      "[6, 8, 3, 9, 5]\n",
      "El número 6 esta en el Set: True\n",
      "El número 8 esta en el Set: True\n",
      "El número 3 esta en el Set: True\n",
      "El número 9 esta en el Set: True\n",
      "El número 5 esta en el Set: True\n"
     ]
    }
   ],
   "source": [
    "Lista = []\n",
    "for i in range(0,5):\n",
    "    Lista.append(random.randint(1,10))\n",
    "print(Lista)\n",
    "\n",
    "for j in range(0, len(Lista)):\n",
    "        print(\"El número\", Lista[j] , \"esta en el Set:\", Lista[j] in Set)"
   ]
  },
  {
   "cell_type": "code",
   "execution_count": null,
   "metadata": {},
   "outputs": [],
   "source": []
  }
 ],
 "metadata": {
  "kernelspec": {
   "display_name": "Python 3",
   "language": "python",
   "name": "python3"
  },
  "language_info": {
   "codemirror_mode": {
    "name": "ipython",
    "version": 3
   },
   "file_extension": ".py",
   "mimetype": "text/x-python",
   "name": "python",
   "nbconvert_exporter": "python",
   "pygments_lexer": "ipython3",
   "version": "3.8.5"
  }
 },
 "nbformat": 4,
 "nbformat_minor": 4
}
